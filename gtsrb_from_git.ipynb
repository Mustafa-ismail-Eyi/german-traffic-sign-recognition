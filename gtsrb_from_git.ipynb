{
  "nbformat": 4,
  "nbformat_minor": 0,
  "metadata": {
    "colab": {
      "name": "gtsrb_from_git.ipynb",
      "provenance": [],
      "collapsed_sections": [],
      "authorship_tag": "ABX9TyPEmWmUXiuY0U97xiwV2xoU",
      "include_colab_link": true
    },
    "kernelspec": {
      "name": "python3",
      "display_name": "Python 3"
    }
  },
  "cells": [
    {
      "cell_type": "markdown",
      "metadata": {
        "id": "view-in-github",
        "colab_type": "text"
      },
      "source": [
        "<a href=\"https://colab.research.google.com/github/isaimadoglu/german-traffic-sign-recognition/blob/isaWindows/gtsrb_from_git.ipynb\" target=\"_parent\"><img src=\"https://colab.research.google.com/assets/colab-badge.svg\" alt=\"Open In Colab\"/></a>"
      ]
    },
    {
      "cell_type": "markdown",
      "metadata": {
        "id": "_BSC8x6H8pbk",
        "colab_type": "text"
      },
      "source": [
        "**German Traffic Sign Recognition Benchmark**"
      ]
    },
    {
      "cell_type": "markdown",
      "metadata": {
        "id": "VFajKGwL8P70",
        "colab_type": "text"
      },
      "source": [
        "Dataset is gathered from Github Repository in this Notebook.\n",
        "\n",
        "The post below was followed:\n",
        "\n",
        "https://medium.com/@yuraist/how-to-upload-your-own-dataset-into-google-colab-e228727c87e9"
      ]
    },
    {
      "cell_type": "code",
      "metadata": {
        "id": "UL12rGG07hRT",
        "colab_type": "code",
        "colab": {
          "base_uri": "https://localhost:8080/",
          "height": 150
        },
        "outputId": "8bd3939e-5dae-4aa0-a710-935a4df4c4a7"
      },
      "source": [
        "!git clone https://github.com/isaimadoglu/german-traffic-sign-recognition.git"
      ],
      "execution_count": 1,
      "outputs": [
        {
          "output_type": "stream",
          "text": [
            "Cloning into 'german-traffic-sign-recognition'...\n",
            "remote: Enumerating objects: 5, done.\u001b[K\n",
            "remote: Counting objects: 100% (5/5), done.\u001b[K\n",
            "remote: Compressing objects: 100% (5/5), done.\u001b[K\n",
            "remote: Total 51939 (delta 1), reused 0 (delta 0), pack-reused 51934\u001b[K\n",
            "Receiving objects: 100% (51939/51939), 299.47 MiB | 51.83 MiB/s, done.\n",
            "Resolving deltas: 100% (2/2), done.\n",
            "Checking out files: 100% (51892/51892), done.\n"
          ],
          "name": "stdout"
        }
      ]
    },
    {
      "cell_type": "code",
      "metadata": {
        "id": "gtTQgfiQ7s-d",
        "colab_type": "code",
        "colab": {}
      },
      "source": [
        "import os"
      ],
      "execution_count": 0,
      "outputs": []
    },
    {
      "cell_type": "code",
      "metadata": {
        "id": "_fFx_Ch07zTj",
        "colab_type": "code",
        "colab": {
          "base_uri": "https://localhost:8080/",
          "height": 33
        },
        "outputId": "310fab3d-94c3-4f35-de35-20b771f54746"
      },
      "source": [
        "os.listdir(\"./german-traffic-sign-recognition/gtsrb-dataset/\")"
      ],
      "execution_count": 5,
      "outputs": [
        {
          "output_type": "execute_result",
          "data": {
            "text/plain": [
              "['Train.csv', 'Meta', 'Train', 'Meta.csv', 'Test.csv', 'Test']"
            ]
          },
          "metadata": {
            "tags": []
          },
          "execution_count": 5
        }
      ]
    },
    {
      "cell_type": "code",
      "metadata": {
        "id": "3k0_yRm68H7r",
        "colab_type": "code",
        "colab": {}
      },
      "source": [
        ""
      ],
      "execution_count": 0,
      "outputs": []
    }
  ]
}