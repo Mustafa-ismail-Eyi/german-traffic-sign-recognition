{
  "nbformat": 4,
  "nbformat_minor": 0,
  "metadata": {
    "colab": {
      "name": "gtsrb_from_git.ipynb",
      "provenance": [],
      "collapsed_sections": [],
      "authorship_tag": "ABX9TyOuoh5rVt/HfrsgD/TJk5a6",
      "include_colab_link": true
    },
    "kernelspec": {
      "name": "python3",
      "display_name": "Python 3"
    }
  },
  "cells": [
    {
      "cell_type": "markdown",
      "metadata": {
        "id": "view-in-github",
        "colab_type": "text"
      },
      "source": [
        "<a href=\"https://colab.research.google.com/github/isaimadoglu/german-traffic-sign-recognition/blob/isaWindows/gtsrb_from_git.ipynb\" target=\"_parent\"><img src=\"https://colab.research.google.com/assets/colab-badge.svg\" alt=\"Open In Colab\"/></a>"
      ]
    },
    {
      "cell_type": "markdown",
      "metadata": {
        "id": "_BSC8x6H8pbk",
        "colab_type": "text"
      },
      "source": [
        "**German Traffic Sign Recognition Benchmark**"
      ]
    },
    {
      "cell_type": "markdown",
      "metadata": {
        "id": "VFajKGwL8P70",
        "colab_type": "text"
      },
      "source": [
        "Dataset is gathered from Github Repository in this Notebook.\n",
        "\n",
        "The post below was followed:\n",
        "\n",
        "https://medium.com/@yuraist/how-to-upload-your-own-dataset-into-google-colab-e228727c87e9"
      ]
    },
    {
      "cell_type": "code",
      "metadata": {
        "id": "UL12rGG07hRT",
        "colab_type": "code",
        "outputId": "13b1bc16-aedc-4a80-d2b7-bc44554f67bb",
        "colab": {
          "base_uri": "https://localhost:8080/",
          "height": 150
        }
      },
      "source": [
        "!git clone https://github.com/isaimadoglu/german-traffic-sign-recognition.git"
      ],
      "execution_count": 1,
      "outputs": [
        {
          "output_type": "stream",
          "text": [
            "Cloning into 'german-traffic-sign-recognition'...\n",
            "remote: Enumerating objects: 22, done.\u001b[K\n",
            "remote: Counting objects: 100% (22/22), done.\u001b[K\n",
            "remote: Compressing objects: 100% (22/22), done.\u001b[K\n",
            "remote: Total 51956 (delta 11), reused 0 (delta 0), pack-reused 51934\u001b[K\n",
            "Receiving objects: 100% (51956/51956), 299.53 MiB | 41.54 MiB/s, done.\n",
            "Resolving deltas: 100% (12/12), done.\n",
            "Checking out files: 100% (51893/51893), done.\n"
          ],
          "name": "stdout"
        }
      ]
    },
    {
      "cell_type": "code",
      "metadata": {
        "id": "gtTQgfiQ7s-d",
        "colab_type": "code",
        "colab": {}
      },
      "source": [
        "import os"
      ],
      "execution_count": 0,
      "outputs": []
    },
    {
      "cell_type": "code",
      "metadata": {
        "id": "_fFx_Ch07zTj",
        "colab_type": "code",
        "outputId": "f64e0c8d-6ba3-4279-a04f-b45525558542",
        "colab": {
          "base_uri": "https://localhost:8080/",
          "height": 33
        }
      },
      "source": [
        "os.listdir(\"./german-traffic-sign-recognition/gtsrb-dataset/\")"
      ],
      "execution_count": 3,
      "outputs": [
        {
          "output_type": "execute_result",
          "data": {
            "text/plain": [
              "['Train.csv', 'Meta', 'Train', 'Meta.csv', 'Test.csv', 'Test']"
            ]
          },
          "metadata": {
            "tags": []
          },
          "execution_count": 3
        }
      ]
    },
    {
      "cell_type": "markdown",
      "metadata": {
        "id": "GBEyJwN24RD7",
        "colab_type": "text"
      },
      "source": [
        "# **Training Part**"
      ]
    },
    {
      "cell_type": "code",
      "metadata": {
        "id": "HgLM1P3cBImT",
        "colab_type": "code",
        "outputId": "4631b207-1f69-4e9c-aa6d-02025c9f65a8",
        "colab": {
          "base_uri": "https://localhost:8080/",
          "height": 33
        }
      },
      "source": [
        "try:\n",
        "  # %tensorflow_version only exists in Colab.\n",
        "  %tensorflow_version 2.x\n",
        "except Exception:\n",
        "  pass"
      ],
      "execution_count": 4,
      "outputs": [
        {
          "output_type": "stream",
          "text": [
            "TensorFlow 2.x selected.\n"
          ],
          "name": "stdout"
        }
      ]
    },
    {
      "cell_type": "code",
      "metadata": {
        "id": "DAyjf_tj4b6v",
        "colab_type": "code",
        "outputId": "100abf5f-bc49-4b4b-9b85-04c6ada9835d",
        "colab": {
          "base_uri": "https://localhost:8080/",
          "height": 50
        }
      },
      "source": [
        "import cv2\n",
        "# Pillow modulu de OpenCV gibi, basit bir goruntu isleme modulu\n",
        "from PIL import Image\n",
        "\n",
        "import numpy as np\n",
        "import pandas as pd\n",
        "\n",
        "import random\n",
        "\n",
        "from __future__ import absolute_import, division, print_function, unicode_literals\n",
        "import tensorflow as tf\n",
        "import tensorflow.keras as keras\n",
        "print(\"Tensorflow Version Should be 2.1: \", tf.__version__)\n",
        "print(\"Keras Version: \", keras.__version__)\n",
        "\n",
        "# Bunlar neural network kurulurken kullaniliyor\n",
        "from tensorflow.keras.layers import Flatten, Conv2D, MaxPooling2D, Dropout, Dense\n",
        "\n",
        "from tensorflow.keras.utils import to_categorical\n",
        "\n",
        "# makine ogrenmesinde train ve test datalarini ayiran fonksiyon\n",
        "from sklearn.model_selection import train_test_split"
      ],
      "execution_count": 5,
      "outputs": [
        {
          "output_type": "stream",
          "text": [
            "Tensorflow Version Should be 2.1:  2.1.0\n",
            "Keras Version:  2.2.4-tf\n"
          ],
          "name": "stdout"
        }
      ]
    },
    {
      "cell_type": "code",
      "metadata": {
        "id": "IBj0pyvY4jjG",
        "colab_type": "code",
        "outputId": "d273255b-c97e-45c4-d991-82c633d6c354",
        "colab": {
          "base_uri": "https://localhost:8080/",
          "height": 736
        }
      },
      "source": [
        "# Reading the input images and putting them into a numpy array\n",
        "data=[]\n",
        "labels=[]\n",
        "\n",
        "# image size'leri 30x30 seklinde kucultmek icin kullanacagiz.\n",
        "height = 30\n",
        "width = 30\n",
        "# RGB icin\n",
        "channels = 3\n",
        "# sinif sayisi\n",
        "num_classes = 43\n",
        "\n",
        "# neural network input katmani icin??\n",
        "n_inputs = height * width*channels\n",
        "\n",
        "# NOT ALALIM\n",
        "for i in range(num_classes) :\n",
        "    path = \"./german-traffic-sign-recognition/gtsrb-dataset/Train/{0}/\".format(i)\n",
        "    print(path)\n",
        "    Class=os.listdir(path)\n",
        "    \n",
        "    # For dongusu ile i'inci class'taki fotograflarin uzerinden geciyor.\n",
        "    for a in Class:\n",
        "        try:\n",
        "            image=cv2.imread(path+a) # siradaki image'i imread ile okuyor.\n",
        "            image_from_array = Image.fromarray(image, 'RGB')  # ???? https://pillow.readthedocs.io/en/3.1.x/reference/Image.html\n",
        "            size_image = image_from_array.resize((height, width))\n",
        "            # image'lar data list'ine numpy array olarak append ediliyor.\n",
        "            data.append(np.array(size_image))\n",
        "            labels.append(i) # etiketler '0, 1, 2, 3, .. ,42' seklinde\n",
        "        except AttributeError:\n",
        "            print(\"Error! goruntuyu alamadik.\")\n",
        "            \n",
        "x_train=np.array(data)\n",
        "# Her bir piksel 0-255 araliginda deger aliyor ya. Ben bu degerleri 0-1 araligina normalize etmek istersem ne yaparim? 255'e bolerim.\n",
        "x_train= x_train/255.0\n",
        "\n",
        "y_train=np.array(labels)\n",
        "# from tensorflow.keras.utils import to_categorical\n",
        "y_train = to_categorical(y_train, num_classes) # Using one hot encoding"
      ],
      "execution_count": 6,
      "outputs": [
        {
          "output_type": "stream",
          "text": [
            "./german-traffic-sign-recognition/gtsrb-dataset/Train/0/\n",
            "./german-traffic-sign-recognition/gtsrb-dataset/Train/1/\n",
            "./german-traffic-sign-recognition/gtsrb-dataset/Train/2/\n",
            "./german-traffic-sign-recognition/gtsrb-dataset/Train/3/\n",
            "./german-traffic-sign-recognition/gtsrb-dataset/Train/4/\n",
            "./german-traffic-sign-recognition/gtsrb-dataset/Train/5/\n",
            "./german-traffic-sign-recognition/gtsrb-dataset/Train/6/\n",
            "./german-traffic-sign-recognition/gtsrb-dataset/Train/7/\n",
            "./german-traffic-sign-recognition/gtsrb-dataset/Train/8/\n",
            "./german-traffic-sign-recognition/gtsrb-dataset/Train/9/\n",
            "./german-traffic-sign-recognition/gtsrb-dataset/Train/10/\n",
            "./german-traffic-sign-recognition/gtsrb-dataset/Train/11/\n",
            "./german-traffic-sign-recognition/gtsrb-dataset/Train/12/\n",
            "./german-traffic-sign-recognition/gtsrb-dataset/Train/13/\n",
            "./german-traffic-sign-recognition/gtsrb-dataset/Train/14/\n",
            "./german-traffic-sign-recognition/gtsrb-dataset/Train/15/\n",
            "./german-traffic-sign-recognition/gtsrb-dataset/Train/16/\n",
            "./german-traffic-sign-recognition/gtsrb-dataset/Train/17/\n",
            "./german-traffic-sign-recognition/gtsrb-dataset/Train/18/\n",
            "./german-traffic-sign-recognition/gtsrb-dataset/Train/19/\n",
            "./german-traffic-sign-recognition/gtsrb-dataset/Train/20/\n",
            "./german-traffic-sign-recognition/gtsrb-dataset/Train/21/\n",
            "./german-traffic-sign-recognition/gtsrb-dataset/Train/22/\n",
            "./german-traffic-sign-recognition/gtsrb-dataset/Train/23/\n",
            "./german-traffic-sign-recognition/gtsrb-dataset/Train/24/\n",
            "./german-traffic-sign-recognition/gtsrb-dataset/Train/25/\n",
            "./german-traffic-sign-recognition/gtsrb-dataset/Train/26/\n",
            "./german-traffic-sign-recognition/gtsrb-dataset/Train/27/\n",
            "./german-traffic-sign-recognition/gtsrb-dataset/Train/28/\n",
            "./german-traffic-sign-recognition/gtsrb-dataset/Train/29/\n",
            "./german-traffic-sign-recognition/gtsrb-dataset/Train/30/\n",
            "./german-traffic-sign-recognition/gtsrb-dataset/Train/31/\n",
            "./german-traffic-sign-recognition/gtsrb-dataset/Train/32/\n",
            "./german-traffic-sign-recognition/gtsrb-dataset/Train/33/\n",
            "./german-traffic-sign-recognition/gtsrb-dataset/Train/34/\n",
            "./german-traffic-sign-recognition/gtsrb-dataset/Train/35/\n",
            "./german-traffic-sign-recognition/gtsrb-dataset/Train/36/\n",
            "./german-traffic-sign-recognition/gtsrb-dataset/Train/37/\n",
            "./german-traffic-sign-recognition/gtsrb-dataset/Train/38/\n",
            "./german-traffic-sign-recognition/gtsrb-dataset/Train/39/\n",
            "./german-traffic-sign-recognition/gtsrb-dataset/Train/40/\n",
            "./german-traffic-sign-recognition/gtsrb-dataset/Train/41/\n",
            "./german-traffic-sign-recognition/gtsrb-dataset/Train/42/\n"
          ],
          "name": "stdout"
        }
      ]
    },
    {
      "cell_type": "code",
      "metadata": {
        "id": "KwOHgV9r5Ei5",
        "colab_type": "code",
        "outputId": "aef76011-a095-4f41-fed4-081d48b8b680",
        "colab": {
          "base_uri": "https://localhost:8080/",
          "height": 50
        }
      },
      "source": [
        "# Split Data\n",
        "# from sklearn.model_selection import train_test_split\n",
        "# X'ler veri, Y'ler label\n",
        "X_train,X_valid,Y_train,Y_valid = train_test_split(x_train,y_train,test_size = 0.3,random_state=0) # X_valid = X_test olarak dusunebiliriz\n",
        "print(\"Train :\", X_train.shape)\n",
        "print(\"Valid :\", X_valid.shape)"
      ],
      "execution_count": 7,
      "outputs": [
        {
          "output_type": "stream",
          "text": [
            "Train : (27446, 30, 30, 3)\n",
            "Valid : (11763, 30, 30, 3)\n"
          ],
          "name": "stdout"
        }
      ]
    },
    {
      "cell_type": "code",
      "metadata": {
        "id": "tXnxu3of5Pq2",
        "colab_type": "code",
        "outputId": "bf0b5ab9-3bbe-491f-af8a-1bf620675392",
        "colab": {
          "base_uri": "https://localhost:8080/",
          "height": 877
        }
      },
      "source": [
        "# Show Train images \n",
        "import matplotlib.pyplot as plt\n",
        "\n",
        "def show_images(images, labels, amount):\n",
        "    for i in range(amount):\n",
        "        index = int(random.random() * len(images))\n",
        "        plt.axis('off')\n",
        "        plt.imshow(images[index])\n",
        "        plt.show()       \n",
        "        print(\"Size of this image is \" + str(images[index].shape))\n",
        "        print(\"Class of the image is \" + str(labels[index]))\n",
        "\n",
        "print(\"Train images\")\n",
        "show_images(X_train, Y_train, 3)"
      ],
      "execution_count": 8,
      "outputs": [
        {
          "output_type": "stream",
          "text": [
            "Train images\n"
          ],
          "name": "stdout"
        },
        {
          "output_type": "display_data",
          "data": {
            "image/png": "[encoded data removed]",
            "text/plain": [
              "<Figure size 432x288 with 1 Axes>"
            ]
          },
          "metadata": {
            "tags": []
          }
        },
        {
          "output_type": "stream",
          "text": [
            "Size of this image is (30, 30, 3)\n",
            "Class of the image is [0. 0. 0. 0. 0. 0. 0. 0. 0. 0. 0. 0. 0. 0. 0. 0. 0. 0. 0. 0. 0. 0. 0. 0.\n",
            " 0. 0. 0. 0. 0. 0. 0. 0. 0. 0. 0. 0. 0. 0. 1. 0. 0. 0. 0.]\n"
          ],
          "name": "stdout"
        },
        {
          "output_type": "display_data",
          "data": {
            "image/png": "[encoded data removed]",
            "text/plain": [
              "<Figure size 432x288 with 1 Axes>"
            ]
          },
          "metadata": {
            "tags": []
          }
        },
        {
          "output_type": "stream",
          "text": [
            "Size of this image is (30, 30, 3)\n",
            "Class of the image is [0. 0. 0. 0. 0. 0. 0. 0. 0. 0. 0. 0. 0. 1. 0. 0. 0. 0. 0. 0. 0. 0. 0. 0.\n",
            " 0. 0. 0. 0. 0. 0. 0. 0. 0. 0. 0. 0. 0. 0. 0. 0. 0. 0. 0.]\n"
          ],
          "name": "stdout"
        },
        {
          "output_type": "display_data",
          "data": {
            "image/png": "[encoded data removed]",
            "text/plain": [
              "<Figure size 432x288 with 1 Axes>"
            ]
          },
          "metadata": {
            "tags": []
          }
        },
        {
          "output_type": "stream",
          "text": [
            "Size of this image is (30, 30, 3)\n",
            "Class of the image is [0. 0. 0. 0. 0. 0. 0. 0. 0. 0. 0. 0. 1. 0. 0. 0. 0. 0. 0. 0. 0. 0. 0. 0.\n",
            " 0. 0. 0. 0. 0. 0. 0. 0. 0. 0. 0. 0. 0. 0. 0. 0. 0. 0. 0.]\n"
          ],
          "name": "stdout"
        }
      ]
    },
    {
      "cell_type": "code",
      "metadata": {
        "id": "4pwP2oKC5UXF",
        "colab_type": "code",
        "outputId": "1e8f2a1b-d296-4402-da2c-d4c0f6005141",
        "colab": {
          "base_uri": "https://localhost:8080/",
          "height": 552
        }
      },
      "source": [
        "# Build Model\n",
        "model = keras.models.Sequential()\n",
        "\n",
        "model.add(Conv2D(32, kernel_size=(3,3), padding='same', activation='relu', input_shape=X_train.shape[1:])) # input layer + convolution layer\n",
        "model.add(Conv2D(32, kernel_size=(3,3), padding='same', activation='relu'))\n",
        "model.add(MaxPooling2D(pool_size=(2, 2)))\n",
        "model.add(Dropout(rate=0.25))\n",
        "\n",
        "model.add(Conv2D(64, kernel_size=(3, 3), padding='same', activation='relu'))\n",
        "model.add(Conv2D(64, kernel_size=(3, 3), padding='same', activation='relu'))\n",
        "model.add(MaxPooling2D(pool_size=(2, 2)))\n",
        "model.add(Dropout(rate=0.25))\n",
        "\n",
        "model.add(Flatten())\n",
        "model.add(Dense(256, activation='relu'))\n",
        "model.add(Dropout(rate=0.5))\n",
        "model.add(Dense(num_classes, activation='softmax')) # class'i belirleyen layer\n",
        "\n",
        "model.summary() # ???"
      ],
      "execution_count": 9,
      "outputs": [
        {
          "output_type": "stream",
          "text": [
            "Model: \"sequential\"\n",
            "_________________________________________________________________\n",
            "Layer (type)                 Output Shape              Param #   \n",
            "=================================================================\n",
            "conv2d (Conv2D)              (None, 30, 30, 32)        896       \n",
            "_________________________________________________________________\n",
            "conv2d_1 (Conv2D)            (None, 30, 30, 32)        9248      \n",
            "_________________________________________________________________\n",
            "max_pooling2d (MaxPooling2D) (None, 15, 15, 32)        0         \n",
            "_________________________________________________________________\n",
            "dropout (Dropout)            (None, 15, 15, 32)        0         \n",
            "_________________________________________________________________\n",
            "conv2d_2 (Conv2D)            (None, 15, 15, 64)        18496     \n",
            "_________________________________________________________________\n",
            "conv2d_3 (Conv2D)            (None, 15, 15, 64)        36928     \n",
            "_________________________________________________________________\n",
            "max_pooling2d_1 (MaxPooling2 (None, 7, 7, 64)          0         \n",
            "_________________________________________________________________\n",
            "dropout_1 (Dropout)          (None, 7, 7, 64)          0         \n",
            "_________________________________________________________________\n",
            "flatten (Flatten)            (None, 3136)              0         \n",
            "_________________________________________________________________\n",
            "dense (Dense)                (None, 256)               803072    \n",
            "_________________________________________________________________\n",
            "dropout_2 (Dropout)          (None, 256)               0         \n",
            "_________________________________________________________________\n",
            "dense_1 (Dense)              (None, 43)                11051     \n",
            "=================================================================\n",
            "Total params: 879,691\n",
            "Trainable params: 879,691\n",
            "Non-trainable params: 0\n",
            "_________________________________________________________________\n"
          ],
          "name": "stdout"
        }
      ]
    },
    {
      "cell_type": "code",
      "metadata": {
        "id": "PoAeef5g5Y2F",
        "colab_type": "code",
        "colab": {}
      },
      "source": [
        "# Compile Model\n",
        "model.compile(loss='categorical_crossentropy', optimizer='adam', metrics=['accuracy'])"
      ],
      "execution_count": 0,
      "outputs": []
    },
    {
      "cell_type": "code",
      "metadata": {
        "id": "R3VIkZ2q5bv1",
        "colab_type": "code",
        "outputId": "e614eba2-bbe1-4e31-dff3-741f891b193f",
        "colab": {
          "base_uri": "https://localhost:8080/",
          "height": 368
        }
      },
      "source": [
        "# Train Model\n",
        "epochs = 10\n",
        "history = model.fit(X_train, Y_train, validation_data=(X_valid, Y_valid), batch_size=32, epochs=epochs,verbose=1)"
      ],
      "execution_count": 11,
      "outputs": [
        {
          "output_type": "stream",
          "text": [
            "Train on 27446 samples, validate on 11763 samples\n",
            "Epoch 1/10\n",
            "27446/27446 [==============================] - 148s 5ms/sample - loss: 1.7139 - accuracy: 0.5133 - val_loss: 0.3054 - val_accuracy: 0.9183\n",
            "Epoch 2/10\n",
            "27446/27446 [==============================] - 146s 5ms/sample - loss: 0.3394 - accuracy: 0.8905 - val_loss: 0.0920 - val_accuracy: 0.9731\n",
            "Epoch 3/10\n",
            "27446/27446 [==============================] - 146s 5ms/sample - loss: 0.1987 - accuracy: 0.9374 - val_loss: 0.0490 - val_accuracy: 0.9854\n",
            "Epoch 4/10\n",
            "27446/27446 [==============================] - 147s 5ms/sample - loss: 0.1439 - accuracy: 0.9549 - val_loss: 0.0389 - val_accuracy: 0.9883\n",
            "Epoch 5/10\n",
            "27446/27446 [==============================] - 147s 5ms/sample - loss: 0.1146 - accuracy: 0.9629 - val_loss: 0.0323 - val_accuracy: 0.9902\n",
            "Epoch 6/10\n",
            "27446/27446 [==============================] - 147s 5ms/sample - loss: 0.0964 - accuracy: 0.9703 - val_loss: 0.0340 - val_accuracy: 0.9905\n",
            "Epoch 7/10\n",
            "27446/27446 [==============================] - 147s 5ms/sample - loss: 0.0796 - accuracy: 0.9741 - val_loss: 0.0251 - val_accuracy: 0.9928\n",
            "Epoch 8/10\n",
            "27446/27446 [==============================] - 147s 5ms/sample - loss: 0.0753 - accuracy: 0.9755 - val_loss: 0.0273 - val_accuracy: 0.9920\n",
            "Epoch 9/10\n",
            "27446/27446 [==============================] - 147s 5ms/sample - loss: 0.0681 - accuracy: 0.9780 - val_loss: 0.0212 - val_accuracy: 0.9935\n",
            "Epoch 10/10\n",
            "27446/27446 [==============================] - 147s 5ms/sample - loss: 0.0634 - accuracy: 0.9808 - val_loss: 0.0233 - val_accuracy: 0.9929\n"
          ],
          "name": "stdout"
        }
      ]
    },
    {
      "cell_type": "code",
      "metadata": {
        "id": "WCzl8dme5ehV",
        "colab_type": "code",
        "outputId": "db353b64-dbea-45c2-ebd9-e7142f75e22c",
        "colab": {
          "base_uri": "https://localhost:8080/",
          "height": 590
        }
      },
      "source": [
        "# plot the accuracy and the loss\n",
        "import matplotlib.pyplot as plt\n",
        "\n",
        "plt.figure(0)\n",
        "plt.plot(history.history['accuracy'], label='training accuracy')\n",
        "plt.plot(history.history['val_accuracy'], label='val accuracy')\n",
        "plt.title('Accuracy')\n",
        "plt.xlabel('epochs')\n",
        "plt.ylabel('accuracy')\n",
        "plt.legend()\n",
        "\n",
        "plt.figure(1)\n",
        "plt.plot(history.history['loss'], label='training loss')\n",
        "plt.plot(history.history['val_loss'], label='val loss')\n",
        "plt.title('Loss')\n",
        "plt.xlabel('epochs')\n",
        "plt.ylabel('loss')\n",
        "plt.legend()"
      ],
      "execution_count": 12,
      "outputs": [
        {
          "output_type": "execute_result",
          "data": {
            "text/plain": [
              "<matplotlib.legend.Legend at 0x7fb6115a4198>"
            ]
          },
          "metadata": {
            "tags": []
          },
          "execution_count": 12
        },
        {
          "output_type": "display_data",
          "data": {
            "image/png": "[encoded data removed]",
            "text/plain": [
              "<Figure size 432x288 with 1 Axes>"
            ]
          },
          "metadata": {
            "tags": []
          }
        },
        {
          "output_type": "display_data",
          "data": {
            "image/png": "[encoded data removed]",
            "text/plain": [
              "<Figure size 432x288 with 1 Axes>"
            ]
          },
          "metadata": {
            "tags": []
          }
        }
      ]
    },
    {
      "cell_type": "code",
      "metadata": {
        "id": "ikVVLKCm5jaF",
        "colab_type": "code",
        "outputId": "e90acc42-f810-4c2b-9b00-0df98fda37bd",
        "colab": {
          "base_uri": "https://localhost:8080/",
          "height": 50
        }
      },
      "source": [
        "# Predicting Test data \n",
        "y_test=pd.read_csv(\"./german-traffic-sign-recognition/gtsrb-dataset/Test.csv\")\n",
        "labels=y_test['Path'].as_matrix()\n",
        "y_test=y_test['ClassId'].values\n",
        "\n",
        "data=[]\n",
        "\n",
        "for f in labels:\n",
        "    image=cv2.imread('./german-traffic-sign-recognition/gtsrb-dataset/Test/'+f.replace('Test/', '')) # ???\n",
        "    image_from_array = Image.fromarray(image, 'RGB')\n",
        "    size_image = image_from_array.resize((height, width))\n",
        "    data.append(np.array(size_image))\n",
        "\n",
        "X_test=np.array(data)\n",
        "X_test = X_test.astype('float32')/255  \n",
        "pred = model.predict_classes(X_test)"
      ],
      "execution_count": 13,
      "outputs": [
        {
          "output_type": "stream",
          "text": [
            "/usr/local/lib/python3.6/dist-packages/ipykernel_launcher.py:2: FutureWarning: Method .as_matrix will be removed in a future version. Use .values instead.\n",
            "  \n"
          ],
          "name": "stderr"
        }
      ]
    },
    {
      "cell_type": "code",
      "metadata": {
        "id": "IJRNetrH57X4",
        "colab_type": "code",
        "outputId": "302750ff-a0d6-4096-a941-4ca0f1e6d826",
        "colab": {
          "base_uri": "https://localhost:8080/",
          "height": 33
        }
      },
      "source": [
        "# Accuracy with the test data\n",
        "from sklearn.metrics import accuracy_score\n",
        "accuracy_score(y_test, pred)"
      ],
      "execution_count": 14,
      "outputs": [
        {
          "output_type": "execute_result",
          "data": {
            "text/plain": [
              "0.9644497228820269"
            ]
          },
          "metadata": {
            "tags": []
          },
          "execution_count": 14
        }
      ]
    },
    {
      "cell_type": "code",
      "metadata": {
        "id": "ajD_RLMm5-BX",
        "colab_type": "code",
        "outputId": "2603cc59-bad5-4a59-9d8d-a11dcbfa6edc",
        "colab": {
          "base_uri": "https://localhost:8080/",
          "height": 33
        }
      },
      "source": [
        "print(\"pred: \", pred, \" Type: \", type(pred), \" shape: \", pred.shape)"
      ],
      "execution_count": 15,
      "outputs": [
        {
          "output_type": "stream",
          "text": [
            "pred:  [16  1 38 ...  6  7 10]  Type:  <class 'numpy.ndarray'>  shape:  (12630,)\n"
          ],
          "name": "stdout"
        }
      ]
    },
    {
      "cell_type": "code",
      "metadata": {
        "id": "FuQC0ReC6AQJ",
        "colab_type": "code",
        "outputId": "274af950-cdf9-4a64-b9ab-62531020d224",
        "colab": {
          "base_uri": "https://localhost:8080/",
          "height": 1000
        }
      },
      "source": [
        "print(\"X_test: \", X_test, \" Type: \", type(X_test), \" shape: \", X_test.shape)"
      ],
      "execution_count": 16,
      "outputs": [
        {
          "output_type": "stream",
          "text": [
            "X_test:  [[[[0.6784314  0.5411765  0.4509804 ]\n",
            "   [0.6627451  0.5372549  0.45490196]\n",
            "   [0.6745098  0.5372549  0.46666667]\n",
            "   ...\n",
            "   [0.50980395 0.40392157 0.34901962]\n",
            "   [0.5294118  0.43137255 0.3372549 ]\n",
            "   [0.4117647  0.32156864 0.24705882]]\n",
            "\n",
            "  [[0.69411767 0.56078434 0.45490196]\n",
            "   [0.68235296 0.54901963 0.4509804 ]\n",
            "   [0.68235296 0.5529412  0.45882353]\n",
            "   ...\n",
            "   [0.6901961  0.5568628  0.4627451 ]\n",
            "   [0.6784314  0.5529412  0.47058824]\n",
            "   [0.67058825 0.54509807 0.47058824]]\n",
            "\n",
            "  [[0.6784314  0.5529412  0.4627451 ]\n",
            "   [0.6862745  0.5568628  0.45882353]\n",
            "   [0.6745098  0.54901963 0.44313726]\n",
            "   ...\n",
            "   [0.7058824  0.5647059  0.47058824]\n",
            "   [0.7019608  0.5647059  0.47843137]\n",
            "   [0.69411767 0.5568628  0.4627451 ]]\n",
            "\n",
            "  ...\n",
            "\n",
            "  [[0.654902   0.5372549  0.45882353]\n",
            "   [0.6392157  0.5254902  0.44705883]\n",
            "   [0.6431373  0.53333336 0.4627451 ]\n",
            "   ...\n",
            "   [0.67058825 0.54509807 0.45490196]\n",
            "   [0.6627451  0.53333336 0.45490196]\n",
            "   [0.6784314  0.54901963 0.46666667]]\n",
            "\n",
            "  [[0.654902   0.53333336 0.45490196]\n",
            "   [0.65882355 0.5254902  0.44705883]\n",
            "   [0.6431373  0.5137255  0.44313726]\n",
            "   ...\n",
            "   [0.654902   0.5294118  0.4392157 ]\n",
            "   [0.64705884 0.53333336 0.45882353]\n",
            "   [0.65882355 0.54901963 0.44705883]]\n",
            "\n",
            "  [[0.65882355 0.5294118  0.4392157 ]\n",
            "   [0.64705884 0.5294118  0.43137255]\n",
            "   [0.64705884 0.53333336 0.4862745 ]\n",
            "   ...\n",
            "   [0.654902   0.54509807 0.45490196]\n",
            "   [0.65882355 0.54509807 0.4627451 ]\n",
            "   [0.6745098  0.54901963 0.4509804 ]]]\n",
            "\n",
            "\n",
            " [[[0.23921569 0.27058825 0.21568628]\n",
            "   [0.23921569 0.30588236 0.35686275]\n",
            "   [0.2509804  0.31764707 0.35686275]\n",
            "   ...\n",
            "   [0.26666668 0.25490198 0.3137255 ]\n",
            "   [0.2627451  0.24705882 0.27450982]\n",
            "   [0.27058825 0.27058825 0.28627452]]\n",
            "\n",
            "  [[0.21960784 0.25490198 0.21176471]\n",
            "   [0.24313726 0.3137255  0.39607844]\n",
            "   [0.23921569 0.30980393 0.36862746]\n",
            "   ...\n",
            "   [0.2509804  0.24705882 0.2901961 ]\n",
            "   [0.28627452 0.2784314  0.3647059 ]\n",
            "   [0.26666668 0.26666668 0.33333334]]\n",
            "\n",
            "  [[0.21960784 0.25490198 0.2       ]\n",
            "   [0.25490198 0.32156864 0.38039216]\n",
            "   [0.2509804  0.32156864 0.37254903]\n",
            "   ...\n",
            "   [0.25490198 0.25490198 0.2784314 ]\n",
            "   [0.27058825 0.2627451  0.30588236]\n",
            "   [0.27450982 0.27058825 0.30980393]]\n",
            "\n",
            "  ...\n",
            "\n",
            "  [[0.15686275 0.16862746 0.16862746]\n",
            "   [0.21960784 0.25882354 0.32156864]\n",
            "   [0.21960784 0.25882354 0.30980393]\n",
            "   ...\n",
            "   [0.24313726 0.24313726 0.25882354]\n",
            "   [0.25882354 0.2627451  0.29803923]\n",
            "   [0.27058825 0.2627451  0.29411766]]\n",
            "\n",
            "  [[0.16078432 0.16862746 0.17254902]\n",
            "   [0.23137255 0.25882354 0.32156864]\n",
            "   [0.22352941 0.25490198 0.3019608 ]\n",
            "   ...\n",
            "   [0.23921569 0.23529412 0.23137255]\n",
            "   [0.2509804  0.2509804  0.25490198]\n",
            "   [0.2627451  0.2627451  0.28627452]]\n",
            "\n",
            "  [[0.16078432 0.16078432 0.18039216]\n",
            "   [0.23529412 0.25882354 0.32156864]\n",
            "   [0.22352941 0.25882354 0.30588236]\n",
            "   ...\n",
            "   [0.23529412 0.22352941 0.23921569]\n",
            "   [0.27450982 0.25490198 0.27450982]\n",
            "   [0.2784314  0.2784314  0.29411766]]]\n",
            "\n",
            "\n",
            " [[[0.14117648 0.14901961 0.19607843]\n",
            "   [0.14509805 0.14901961 0.19215687]\n",
            "   [0.14509805 0.14901961 0.19215687]\n",
            "   ...\n",
            "   [0.18431373 0.17254902 0.20784314]\n",
            "   [0.1882353  0.1764706  0.21176471]\n",
            "   [0.19215687 0.18039216 0.21568628]]\n",
            "\n",
            "  [[0.16470589 0.1764706  0.23137255]\n",
            "   [0.16078432 0.17254902 0.23137255]\n",
            "   [0.16078432 0.17254902 0.21960784]\n",
            "   ...\n",
            "   [0.16470589 0.16470589 0.20784314]\n",
            "   [0.1764706  0.17254902 0.21176471]\n",
            "   [0.1764706  0.18039216 0.21960784]]\n",
            "\n",
            "  [[0.18039216 0.19607843 0.27450982]\n",
            "   [0.18431373 0.2        0.2627451 ]\n",
            "   [0.18039216 0.19607843 0.26666668]\n",
            "   ...\n",
            "   [0.16078432 0.17254902 0.23921569]\n",
            "   [0.16078432 0.17254902 0.23137255]\n",
            "   [0.16470589 0.1764706  0.23529412]]\n",
            "\n",
            "  ...\n",
            "\n",
            "  [[0.10196079 0.09411765 0.10980392]\n",
            "   [0.10196079 0.09411765 0.10980392]\n",
            "   [0.10980392 0.10588235 0.11372549]\n",
            "   ...\n",
            "   [0.09803922 0.09411765 0.10588235]\n",
            "   [0.09019608 0.09411765 0.10588235]\n",
            "   [0.09411765 0.09411765 0.10196079]]\n",
            "\n",
            "  [[0.10980392 0.10588235 0.11764706]\n",
            "   [0.13725491 0.12941177 0.14901961]\n",
            "   [0.15294118 0.14117648 0.16470589]\n",
            "   ...\n",
            "   [0.10980392 0.12156863 0.12941177]\n",
            "   [0.14117648 0.14901961 0.15686275]\n",
            "   [0.1764706  0.1764706  0.18431373]]\n",
            "\n",
            "  [[0.10980392 0.10588235 0.11372549]\n",
            "   [0.10196079 0.10196079 0.12156863]\n",
            "   [0.13333334 0.14509805 0.2       ]\n",
            "   ...\n",
            "   [0.15686275 0.16078432 0.16470589]\n",
            "   [0.17254902 0.16862746 0.17254902]\n",
            "   [0.16862746 0.18039216 0.18431373]]]\n",
            "\n",
            "\n",
            " ...\n",
            "\n",
            "\n",
            " [[[0.13333334 0.10588235 0.09411765]\n",
            "   [0.1254902  0.09803922 0.09019608]\n",
            "   [0.1254902  0.09803922 0.09411765]\n",
            "   ...\n",
            "   [0.12941177 0.10588235 0.10196079]\n",
            "   [0.13333334 0.10588235 0.10196079]\n",
            "   [0.13333334 0.10588235 0.10196079]]\n",
            "\n",
            "  [[0.12941177 0.10196079 0.09803922]\n",
            "   [0.13333334 0.10196079 0.09803922]\n",
            "   [0.12941177 0.10196079 0.10196079]\n",
            "   ...\n",
            "   [0.13333334 0.10588235 0.10196079]\n",
            "   [0.13725491 0.10588235 0.10588235]\n",
            "   [0.14117648 0.10980392 0.10980392]]\n",
            "\n",
            "  [[0.1254902  0.10196079 0.10196079]\n",
            "   [0.1254902  0.09803922 0.09803922]\n",
            "   [0.11764706 0.09411765 0.09411765]\n",
            "   ...\n",
            "   [0.12941177 0.10588235 0.10196079]\n",
            "   [0.12941177 0.10588235 0.10588235]\n",
            "   [0.12941177 0.10196079 0.10588235]]\n",
            "\n",
            "  ...\n",
            "\n",
            "  [[0.08235294 0.06666667 0.0627451 ]\n",
            "   [0.08235294 0.0627451  0.05882353]\n",
            "   [0.08235294 0.0627451  0.05490196]\n",
            "   ...\n",
            "   [0.11372549 0.08235294 0.07450981]\n",
            "   [0.12941177 0.09019608 0.08235294]\n",
            "   [0.11764706 0.08235294 0.07450981]]\n",
            "\n",
            "  [[0.08627451 0.06666667 0.0627451 ]\n",
            "   [0.08235294 0.0627451  0.05882353]\n",
            "   [0.08235294 0.0627451  0.05490196]\n",
            "   ...\n",
            "   [0.11764706 0.08235294 0.07450981]\n",
            "   [0.1254902  0.08627451 0.07843138]\n",
            "   [0.1254902  0.08627451 0.07450981]]\n",
            "\n",
            "  [[0.08235294 0.0627451  0.05882353]\n",
            "   [0.08235294 0.0627451  0.05882353]\n",
            "   [0.08235294 0.0627451  0.05490196]\n",
            "   ...\n",
            "   [0.11764706 0.08235294 0.07058824]\n",
            "   [0.1254902  0.08627451 0.07450981]\n",
            "   [0.12156863 0.08627451 0.07058824]]]\n",
            "\n",
            "\n",
            " [[[0.2901961  0.23529412 0.18431373]\n",
            "   [0.28235295 0.22745098 0.20784314]\n",
            "   [0.18431373 0.18431373 0.20784314]\n",
            "   ...\n",
            "   [0.14509805 0.12156863 0.14509805]\n",
            "   [0.04705882 0.03921569 0.05098039]\n",
            "   [0.04705882 0.03529412 0.03921569]]\n",
            "\n",
            "  [[0.34509805 0.28235295 0.24705882]\n",
            "   [0.29411766 0.23529412 0.25882354]\n",
            "   [0.20392157 0.19215687 0.2       ]\n",
            "   ...\n",
            "   [0.09019608 0.07058824 0.08627451]\n",
            "   [0.02745098 0.03921569 0.05098039]\n",
            "   [0.04313726 0.03529412 0.04313726]]\n",
            "\n",
            "  [[0.3529412  0.28627452 0.2509804 ]\n",
            "   [0.39215687 0.3137255  0.2627451 ]\n",
            "   [0.35686275 0.3019608  0.2627451 ]\n",
            "   ...\n",
            "   [0.16078432 0.16470589 0.16470589]\n",
            "   [0.09803922 0.1254902  0.14117648]\n",
            "   [0.04705882 0.03529412 0.05490196]]\n",
            "\n",
            "  ...\n",
            "\n",
            "  [[0.09019608 0.07843138 0.07843138]\n",
            "   [0.08235294 0.07058824 0.07058824]\n",
            "   [0.07843138 0.05882353 0.0627451 ]\n",
            "   ...\n",
            "   [0.16862746 0.14509805 0.15294118]\n",
            "   [0.19215687 0.15294118 0.15294118]\n",
            "   [0.07058824 0.07058824 0.07450981]]\n",
            "\n",
            "  [[0.05882353 0.04705882 0.05098039]\n",
            "   [0.05490196 0.04705882 0.05098039]\n",
            "   [0.05098039 0.03921569 0.04705882]\n",
            "   ...\n",
            "   [0.13333334 0.11372549 0.10588235]\n",
            "   [0.15686275 0.13333334 0.1254902 ]\n",
            "   [0.08235294 0.09803922 0.10196079]]\n",
            "\n",
            "  [[0.05490196 0.04313726 0.04705882]\n",
            "   [0.05098039 0.04313726 0.04705882]\n",
            "   [0.04705882 0.03921569 0.04705882]\n",
            "   ...\n",
            "   [0.16470589 0.13333334 0.11372549]\n",
            "   [0.16470589 0.14901961 0.14117648]\n",
            "   [0.07058824 0.09411765 0.10588235]]]\n",
            "\n",
            "\n",
            " [[[0.05098039 0.03921569 0.03921569]\n",
            "   [0.05098039 0.03921569 0.03921569]\n",
            "   [0.04705882 0.03529412 0.03921569]\n",
            "   ...\n",
            "   [0.05882353 0.04705882 0.05098039]\n",
            "   [0.05882353 0.04705882 0.05098039]\n",
            "   [0.0627451  0.04705882 0.05098039]]\n",
            "\n",
            "  [[0.05490196 0.04313726 0.04705882]\n",
            "   [0.04705882 0.03529412 0.03529412]\n",
            "   [0.04705882 0.03529412 0.03529412]\n",
            "   ...\n",
            "   [0.05490196 0.04705882 0.05098039]\n",
            "   [0.05882353 0.04705882 0.05098039]\n",
            "   [0.0627451  0.04705882 0.05098039]]\n",
            "\n",
            "  [[0.04313726 0.03529412 0.04313726]\n",
            "   [0.04313726 0.03137255 0.03529412]\n",
            "   [0.04705882 0.03529412 0.03529412]\n",
            "   ...\n",
            "   [0.05490196 0.04705882 0.05098039]\n",
            "   [0.05882353 0.04705882 0.05098039]\n",
            "   [0.0627451  0.04705882 0.05098039]]\n",
            "\n",
            "  ...\n",
            "\n",
            "  [[0.05098039 0.03529412 0.04313726]\n",
            "   [0.04705882 0.03529412 0.03921569]\n",
            "   [0.05098039 0.03921569 0.04313726]\n",
            "   ...\n",
            "   [0.05098039 0.03921569 0.04313726]\n",
            "   [0.04705882 0.03529412 0.03921569]\n",
            "   [0.05490196 0.04313726 0.04705882]]\n",
            "\n",
            "  [[0.05490196 0.03921569 0.04313726]\n",
            "   [0.05490196 0.03921569 0.04313726]\n",
            "   [0.05490196 0.03921569 0.04313726]\n",
            "   ...\n",
            "   [0.04705882 0.03529412 0.03529412]\n",
            "   [0.04313726 0.03529412 0.03529412]\n",
            "   [0.05098039 0.04313726 0.04705882]]\n",
            "\n",
            "  [[0.05098039 0.03921569 0.03921569]\n",
            "   [0.04705882 0.03529412 0.03921569]\n",
            "   [0.04705882 0.03529412 0.04313726]\n",
            "   ...\n",
            "   [0.05098039 0.03921569 0.03921569]\n",
            "   [0.04705882 0.03921569 0.03529412]\n",
            "   [0.05098039 0.04313726 0.04313726]]]]  Type:  <class 'numpy.ndarray'>  shape:  (12630, 30, 30, 3)\n"
          ],
          "name": "stdout"
        }
      ]
    },
    {
      "cell_type": "code",
      "metadata": {
        "id": "rp8MfMsc6D8t",
        "colab_type": "code",
        "colab": {}
      },
      "source": [
        "first_in = 1\n",
        "second_in = 2\n",
        "class_of_prediction = model.predict_classes(X_test[first_in:second_in])[0]"
      ],
      "execution_count": 0,
      "outputs": []
    },
    {
      "cell_type": "code",
      "metadata": {
        "id": "BrwoykHX6GOl",
        "colab_type": "code",
        "outputId": "c60d3701-71f2-42b8-9bd0-fdc341861443",
        "colab": {
          "base_uri": "https://localhost:8080/",
          "height": 33
        }
      },
      "source": [
        "class_of_prediction"
      ],
      "execution_count": 18,
      "outputs": [
        {
          "output_type": "execute_result",
          "data": {
            "text/plain": [
              "1"
            ]
          },
          "metadata": {
            "tags": []
          },
          "execution_count": 18
        }
      ]
    },
    {
      "cell_type": "code",
      "metadata": {
        "id": "k6LHkrex6IVQ",
        "colab_type": "code",
        "outputId": "24a539f9-8fdd-4f76-fe11-2f64b6c5a805",
        "colab": {
          "base_uri": "https://localhost:8080/",
          "height": 33
        }
      },
      "source": [
        "sinif = 1\n",
        "if(class_of_prediction == sinif):\n",
        "    print(\"Birinci Sinif\")"
      ],
      "execution_count": 19,
      "outputs": [
        {
          "output_type": "stream",
          "text": [
            "Birinci Sinif\n"
          ],
          "name": "stdout"
        }
      ]
    },
    {
      "cell_type": "code",
      "metadata": {
        "id": "vTh2lva8VRK4",
        "colab_type": "code",
        "colab": {
          "base_uri": "https://localhost:8080/",
          "height": 67
        },
        "outputId": "89e8766d-99f3-43f7-c380-218c688d8eac"
      },
      "source": [
        "#!pip install h5py"
      ],
      "execution_count": 20,
      "outputs": [
        {
          "output_type": "stream",
          "text": [
            "Requirement already satisfied: h5py in /tensorflow-2.1.0/python3.6 (2.10.0)\n",
            "Requirement already satisfied: six in /tensorflow-2.1.0/python3.6 (from h5py) (1.14.0)\n",
            "Requirement already satisfied: numpy>=1.7 in /tensorflow-2.1.0/python3.6 (from h5py) (1.18.1)\n"
          ],
          "name": "stdout"
        }
      ]
    },
    {
      "cell_type": "code",
      "metadata": {
        "id": "HQydxiYUVUER",
        "colab_type": "code",
        "colab": {}
      },
      "source": [
        "#model.save(\"model1.h5\")"
      ],
      "execution_count": 0,
      "outputs": []
    },
    {
      "cell_type": "code",
      "metadata": {
        "id": "4obbPKpTVavz",
        "colab_type": "code",
        "colab": {
          "base_uri": "https://localhost:8080/",
          "height": 33
        },
        "outputId": "8a418a4b-7fec-43cf-d025-fdd50e09b3a4"
      },
      "source": [
        "#os.listdir()"
      ],
      "execution_count": 22,
      "outputs": [
        {
          "output_type": "execute_result",
          "data": {
            "text/plain": [
              "['.config', 'german-traffic-sign-recognition', 'model1.h5', 'sample_data']"
            ]
          },
          "metadata": {
            "tags": []
          },
          "execution_count": 22
        }
      ]
    },
    {
      "cell_type": "code",
      "metadata": {
        "id": "uaECYVAkC4Sp",
        "colab_type": "code",
        "colab": {}
      },
      "source": [
        "#from google.colab import files\n",
        "#files.download(\"model1.h5\")"
      ],
      "execution_count": 0,
      "outputs": []
    },
    {
      "cell_type": "code",
      "metadata": {
        "id": "f3D2k_QXVdpY",
        "colab_type": "code",
        "colab": {}
      },
      "source": [
        ""
      ],
      "execution_count": 0,
      "outputs": []
    }
  ]
}